{
 "cells": [
  {
   "cell_type": "markdown",
   "metadata": {},
   "source": [
    "# ML Pipeline Preparation\n",
    "Follow the instructions below to help you create your ML pipeline.\n",
    "### 1. Import libraries and load data from database.\n",
    "- Import Python libraries\n",
    "- Load dataset from database with [`read_sql_table`](https://pandas.pydata.org/pandas-docs/stable/generated/pandas.read_sql_table.html)\n",
    "- Define feature and target variables X and Y"
   ]
  },
  {
   "cell_type": "code",
   "execution_count": 2,
   "metadata": {},
   "outputs": [
    {
     "output_type": "stream",
     "name": "stderr",
     "text": "[nltk_data] Downloading package punkt to /home/daniel/nltk_data...\n[nltk_data]   Package punkt is already up-to-date!\n[nltk_data] Downloading package stopwords to /home/daniel/nltk_data...\n[nltk_data]   Package stopwords is already up-to-date!\n[nltk_data] Downloading package wordnet to /home/daniel/nltk_data...\n[nltk_data]   Package wordnet is already up-to-date!\n"
    },
    {
     "output_type": "execute_result",
     "data": {
      "text/plain": "True"
     },
     "metadata": {},
     "execution_count": 2
    }
   ],
   "source": [
    "import pickle\n",
    "import re\n",
    "import pandas as pd\n",
    "import numpy as np \n",
    "import nltk\n",
    "from nltk.corpus import stopwords\n",
    "from nltk.stem.wordnet import WordNetLemmatizer\n",
    "from nltk.tokenize import word_tokenize\n",
    "from sqlalchemy import create_engine\n",
    "from sklearn.pipeline import Pipeline\n",
    "from sklearn.model_selection import train_test_split, GridSearchCV\n",
    "from sklearn.metrics import accuracy_score, precision_score, recall_score, f1_score\n",
    "from sklearn.feature_extraction.text import TfidfVectorizer\n",
    "from sklearn.multioutput import MultiOutputClassifier\n",
    "from sklearn.neighbors import KNeighborsClassifier\n",
    "from sklearn.naive_bayes import BernoulliNB\n",
    "from sklearn.linear_model import LogisticRegression\n",
    "\n",
    "nltk.download('punkt')\n",
    "nltk.download('stopwords')\n",
    "nltk.download('wordnet')"
   ]
  },
  {
   "cell_type": "code",
   "execution_count": 3,
   "metadata": {},
   "outputs": [],
   "source": [
    "# load data from database\n",
    "engine = create_engine('sqlite:///../data/disaster_project.db')\n",
    "df = pd.read_sql_table('messages_categories', engine)\n",
    "\n",
    "features = ['message', 'genre']\n",
    "\n",
    "X = df[features]\n",
    "Y = df.iloc[:,4:]"
   ]
  },
  {
   "cell_type": "markdown",
   "metadata": {},
   "source": [
    "### 2. Write a tokenization function to process your text data"
   ]
  },
  {
   "cell_type": "code",
   "execution_count": 7,
   "metadata": {},
   "outputs": [],
   "source": [
    "def tokenizer(text: str):\n",
    "    \"\"\"Normalize, tokenize and lemmatize text.\n",
    "\n",
    "    Args:\n",
    "        text: str. A body of text.\n",
    "\n",
    "    Returns:\n",
    "        tokens: list(str). A list of normalised and lemmatized words.\n",
    "    \"\"\"\n",
    "    # Replace url with 'website'.\n",
    "    url_regex = 'http[s]?://(?:[a-zA-Z]|[0-9]|[$-_@.&+]|[!*\\(\\),]|(?:%[0-9a-fA-F][0-9a-fA-F]))+'\n",
    "    found_urls = re.findall(url_regex, text)\n",
    "    for url in found_urls:\n",
    "        text = text.replace(url, \"website\")\n",
    "\n",
    "    # Convert to lower case and remove punctuation\n",
    "    text = re.sub(r\"[^a-zA-Z0-9]\", \" \", text.lower())\n",
    "\n",
    "    # Lemmatize and remove stop words.\n",
    "    lemmatizer = WordNetLemmatizer()\n",
    "    stop_words = stopwords.words('english')\n",
    "\n",
    "    tokens = word_tokenize(text)\n",
    "    tokens = [lemmatizer.lemmatize(t) for t in tokens if t not in stop_words]\n",
    "    return tokens"
   ]
  },
  {
   "cell_type": "markdown",
   "metadata": {},
   "source": [
    "### 3. Build a machine learning pipeline\n",
    "This machine pipeline should take in the `message` column as input and output classification results on the other 36 categories in the dataset. You may find the [MultiOutputClassifier](http://scikit-learn.org/stable/modules/generated/sklearn.multioutput.MultiOutputClassifier.html) helpful for predicting multiple target variables."
   ]
  },
  {
   "cell_type": "code",
   "execution_count": 8,
   "metadata": {},
   "outputs": [],
   "source": [
    "lr_pipeline = Pipeline([\n",
    "    ('vect', TfidfVectorizer(tokenizer=tokenizer)),\n",
    "    ('clf', MultiOutputClassifier(LogisticRegression()))\n",
    "])"
   ]
  },
  {
   "cell_type": "markdown",
   "metadata": {},
   "source": [
    "### 4. Train pipeline\n",
    "- Split data into train and test sets\n",
    "- Train pipeline"
   ]
  },
  {
   "cell_type": "code",
   "execution_count": 10,
   "metadata": {},
   "outputs": [],
   "source": [
    "# Remove the \"child_alone\" since all labels are 0\n",
    "# LogisticRegression has a bug that prevents training on one class\n",
    "columns = Y.columns.tolist()\n",
    "columns.remove('child_alone') \n",
    "\n",
    "X_train, X_test, y_train, y_test = train_test_split(X.message, Y[columns], random_state=1)\n",
    "\n",
    "model = lr_pipeline\n",
    "%time model.fit(X_train, y_train)"
   ]
  },
  {
   "cell_type": "markdown",
   "metadata": {},
   "source": [
    "### 5. Test your model\n",
    "Report the f1 score, precision and recall for each output category of the dataset. You can do this by iterating through the columns and calling sklearn's `classification_report` on each."
   ]
  },
  {
   "cell_type": "code",
   "execution_count": 6,
   "metadata": {},
   "outputs": [],
   "source": [
    "def generate_classification_report(y_test: pd.DataFrame, y_pred: pd.DataFrame):\n",
    "    \"\"\"Create a classification report for each column including:\n",
    "    accuracy, precision, recall and f1 score. \n",
    "\n",
    "    Args:\n",
    "        y_test: pandas.DataFrame The test dataset, values of (0,1) for each class.\n",
    "        y_pred: pandas.DataFrame Predictions, values of (0,1) for each class.\n",
    "    Returns:\n",
    "        df: pandas.DataFrame. A dataframe of metrics for each label.\n",
    "    \"\"\"    \n",
    "    metrics = []\n",
    "\n",
    "    for col in y_test.columns:\n",
    "        accuracy = accuracy_score(y_test[col], y_pred[col])\n",
    "        precision = precision_score(y_test[col], y_pred[col], average='macro')\n",
    "        recall = recall_score(y_test[col], y_pred[col], average='macro')\n",
    "        f1 = f1_score(y_test[col], y_pred[col], average='macro')\n",
    "\n",
    "        metrics.append([accuracy, precision, recall, f1])\n",
    "\n",
    "    return pd.DataFrame(\n",
    "        data=metrics,\n",
    "        index=y_test.columns,\n",
    "        columns=['accuracy', 'precision', 'recall', 'f1']\n",
    "        ).round(2)\n",
    "\n",
    "def create_baseline_clf_report(y_test: pd.DataFrame, y_train: pd.DataFrame):\n",
    "    \"\"\"Create a baseline classification performance report\n",
    "    by predicting the majority label (0 or 1) from the training\n",
    "    dataset for each category.\n",
    "\n",
    "    Args:\n",
    "        y_test: pandas.DataFrame The test dataset, values of (0,1) for each class.\n",
    "    Returns:\n",
    "        df: pandas.DataFrame. A dataframe of metrics from predicting the majority label\n",
    "        for each class.\n",
    "    \"\"\"    \n",
    "    baseline_pred = pd.DataFrame(np.zeros(y_test.shape), columns=y_test.columns)\n",
    "    summary_df = y_train.sum() / y_train.shape[0] \n",
    "    majority_classes = summary_df[summary_df > 0.5].index.tolist() \n",
    "    for label in majority_classes:\n",
    "        baseline_pred[label] = 1\n",
    "    return generate_classification_report(y_test, baseline_pred)"
   ]
  },
  {
   "cell_type": "code",
   "execution_count": 7,
   "metadata": {},
   "outputs": [
    {
     "output_type": "stream",
     "name": "stdout",
     "text": "CPU times: user 4.85 s, sys: 188 ms, total: 5.04 s\nWall time: 5.09 s\n"
    }
   ],
   "source": [
    "%time y_pred = model.predict(X_test)  \n",
    "y_pred = pd.DataFrame(y_pred, columns=y_test.columns)\n",
    "\n",
    "clf_report = generate_classification_report(y_test=y_test, y_pred=y_pred)\n",
    "baseline_clf_report = create_baseline_clf_report(y_test, y_train)\n",
    "\n",
    "knn_clf_report = clf_report.merge(baseline_clf_report, left_index=True, right_index=True, suffixes=('', '_bp'))  "
   ]
  },
  {
   "cell_type": "markdown",
   "metadata": {},
   "source": [
    "### 6. Improve your model\n",
    "Use grid search to find better parameters. "
   ]
  },
  {
   "cell_type": "code",
   "execution_count": 17,
   "metadata": {},
   "outputs": [
    {
     "output_type": "execute_result",
     "data": {
      "text/plain": "GridSearchCV(cv=None, error_score=nan,\n             estimator=Pipeline(memory=None,\n                                steps=[('vect',\n                                        TfidfVectorizer(analyzer='word',\n                                                        binary=False,\n                                                        decode_error='strict',\n                                                        dtype=<class 'numpy.float64'>,\n                                                        encoding='utf-8',\n                                                        input='content',\n                                                        lowercase=True,\n                                                        max_df=1.0,\n                                                        max_features=None,\n                                                        min_df=1,\n                                                        ngram_range=(1, 1),\n                                                        norm='l2',\n                                                        preprocessor=None,\n                                                        smooth_idf=True,\n                                                        stop_words=None,\n                                                        strip_a...\n                                                                                           max_iter=100,\n                                                                                           multi_class='auto',\n                                                                                           n_jobs=None,\n                                                                                           penalty='l2',\n                                                                                           random_state=None,\n                                                                                           solver='lbfgs',\n                                                                                           tol=0.0001,\n                                                                                           verbose=0,\n                                                                                           warm_start=False),\n                                                              n_jobs=None))],\n                                verbose=False),\n             iid='deprecated', n_jobs=None,\n             param_grid={'clf__estimator__C': [0.1, 1, 10],\n                         'clf__estimator__penalty': ['l2', None]},\n             pre_dispatch='2*n_jobs', refit=True, return_train_score=False,\n             scoring=None, verbose=0)"
     },
     "metadata": {},
     "execution_count": 17
    }
   ],
   "source": [
    "parameters = {\n",
    "    'clf__estimator__penalty': ['l2', None],\n",
    "    'clf__estimator__C': [0.1, 1, 10]\n",
    "}\n",
    "\n",
    "cv = GridSearchCV(lr_pipeline, param_grid=parameters)\n",
    "cv.fit(X_train, y_train)"
   ]
  },
  {
   "cell_type": "code",
   "execution_count": 18,
   "metadata": {},
   "outputs": [
    {
     "output_type": "execute_result",
     "data": {
      "text/plain": "{'clf__estimator__C': 1, 'clf__estimator__penalty': 'l2'}"
     },
     "metadata": {},
     "execution_count": 18
    }
   ],
   "source": [
    "cv.best_params_\n",
    "# {'clf__estimator__C': 1, 'clf__estimator__penalty': 'l2'}"
   ]
  },
  {
   "cell_type": "markdown",
   "metadata": {},
   "source": [
    "### 7. Test your model\n",
    "Show the accuracy, precision, and recall of the tuned model.  \n",
    "\n",
    "Since this project focuses on code quality, process, and  pipelines, there is no minimum performance metric needed to pass. However, make sure to fine tune your models for accuracy, precision and recall to make your project stand out - especially for your portfolio!"
   ]
  },
  {
   "cell_type": "code",
   "execution_count": 21,
   "metadata": {},
   "outputs": [
    {
     "output_type": "execute_result",
     "data": {
      "text/plain": "                        accuracy  precision  recall    f1\nrelated                     0.83       0.53    0.47  0.49\nrequest                     0.90       0.86    0.75  0.79\noffer                       1.00       0.50    0.50  0.50\naid_related                 0.78       0.78    0.77  0.77\nmedical_help                0.92       0.79    0.58  0.62\nmedical_products            0.95       0.84    0.58  0.61\nsearch_and_rescue           0.97       0.79    0.52  0.53\nsecurity                    0.98       0.49    0.50  0.50\nmilitary                    0.97       0.77    0.56  0.60\nwater                       0.96       0.88    0.75  0.79\nfood                        0.94       0.90    0.78  0.83\nshelter                     0.94       0.88    0.72  0.77\nclothing                    0.99       0.92    0.62  0.68\nmoney                       0.98       0.88    0.52  0.54\nmissing_people              0.99       0.49    0.50  0.50\nrefugees                    0.97       0.82    0.53  0.55\ndeath                       0.96       0.90    0.62  0.68\nother_aid                   0.87       0.75    0.55  0.56\ninfrastructure_related      0.94       0.80    0.51  0.51\ntransport                   0.96       0.90    0.55  0.58\nbuildings                   0.95       0.89    0.59  0.63\nelectricity                 0.98       0.81    0.55  0.58\ntools                       0.99       0.50    0.50  0.50\nhospitals                   0.99       0.49    0.50  0.50\nshops                       1.00       0.50    0.50  0.50\naid_centers                 0.99       0.49    0.50  0.50\nother_infrastructure        0.96       0.70    0.51  0.50\nweather_related             0.88       0.87    0.81  0.83\nfloods                      0.95       0.93    0.71  0.77\nstorm                       0.93       0.85    0.71  0.76\nfire                        0.99       0.99    0.51  0.52\nearthquake                  0.96       0.93    0.81  0.86\ncold                        0.98       0.77    0.55  0.59\nother_weather               0.95       0.82    0.52  0.52\ndirect_report               0.86       0.82    0.70  0.73",
      "text/html": "<div>\n<style scoped>\n    .dataframe tbody tr th:only-of-type {\n        vertical-align: middle;\n    }\n\n    .dataframe tbody tr th {\n        vertical-align: top;\n    }\n\n    .dataframe thead th {\n        text-align: right;\n    }\n</style>\n<table border=\"1\" class=\"dataframe\">\n  <thead>\n    <tr style=\"text-align: right;\">\n      <th></th>\n      <th>accuracy</th>\n      <th>precision</th>\n      <th>recall</th>\n      <th>f1</th>\n    </tr>\n  </thead>\n  <tbody>\n    <tr>\n      <th>related</th>\n      <td>0.83</td>\n      <td>0.53</td>\n      <td>0.47</td>\n      <td>0.49</td>\n    </tr>\n    <tr>\n      <th>request</th>\n      <td>0.90</td>\n      <td>0.86</td>\n      <td>0.75</td>\n      <td>0.79</td>\n    </tr>\n    <tr>\n      <th>offer</th>\n      <td>1.00</td>\n      <td>0.50</td>\n      <td>0.50</td>\n      <td>0.50</td>\n    </tr>\n    <tr>\n      <th>aid_related</th>\n      <td>0.78</td>\n      <td>0.78</td>\n      <td>0.77</td>\n      <td>0.77</td>\n    </tr>\n    <tr>\n      <th>medical_help</th>\n      <td>0.92</td>\n      <td>0.79</td>\n      <td>0.58</td>\n      <td>0.62</td>\n    </tr>\n    <tr>\n      <th>medical_products</th>\n      <td>0.95</td>\n      <td>0.84</td>\n      <td>0.58</td>\n      <td>0.61</td>\n    </tr>\n    <tr>\n      <th>search_and_rescue</th>\n      <td>0.97</td>\n      <td>0.79</td>\n      <td>0.52</td>\n      <td>0.53</td>\n    </tr>\n    <tr>\n      <th>security</th>\n      <td>0.98</td>\n      <td>0.49</td>\n      <td>0.50</td>\n      <td>0.50</td>\n    </tr>\n    <tr>\n      <th>military</th>\n      <td>0.97</td>\n      <td>0.77</td>\n      <td>0.56</td>\n      <td>0.60</td>\n    </tr>\n    <tr>\n      <th>water</th>\n      <td>0.96</td>\n      <td>0.88</td>\n      <td>0.75</td>\n      <td>0.79</td>\n    </tr>\n    <tr>\n      <th>food</th>\n      <td>0.94</td>\n      <td>0.90</td>\n      <td>0.78</td>\n      <td>0.83</td>\n    </tr>\n    <tr>\n      <th>shelter</th>\n      <td>0.94</td>\n      <td>0.88</td>\n      <td>0.72</td>\n      <td>0.77</td>\n    </tr>\n    <tr>\n      <th>clothing</th>\n      <td>0.99</td>\n      <td>0.92</td>\n      <td>0.62</td>\n      <td>0.68</td>\n    </tr>\n    <tr>\n      <th>money</th>\n      <td>0.98</td>\n      <td>0.88</td>\n      <td>0.52</td>\n      <td>0.54</td>\n    </tr>\n    <tr>\n      <th>missing_people</th>\n      <td>0.99</td>\n      <td>0.49</td>\n      <td>0.50</td>\n      <td>0.50</td>\n    </tr>\n    <tr>\n      <th>refugees</th>\n      <td>0.97</td>\n      <td>0.82</td>\n      <td>0.53</td>\n      <td>0.55</td>\n    </tr>\n    <tr>\n      <th>death</th>\n      <td>0.96</td>\n      <td>0.90</td>\n      <td>0.62</td>\n      <td>0.68</td>\n    </tr>\n    <tr>\n      <th>other_aid</th>\n      <td>0.87</td>\n      <td>0.75</td>\n      <td>0.55</td>\n      <td>0.56</td>\n    </tr>\n    <tr>\n      <th>infrastructure_related</th>\n      <td>0.94</td>\n      <td>0.80</td>\n      <td>0.51</td>\n      <td>0.51</td>\n    </tr>\n    <tr>\n      <th>transport</th>\n      <td>0.96</td>\n      <td>0.90</td>\n      <td>0.55</td>\n      <td>0.58</td>\n    </tr>\n    <tr>\n      <th>buildings</th>\n      <td>0.95</td>\n      <td>0.89</td>\n      <td>0.59</td>\n      <td>0.63</td>\n    </tr>\n    <tr>\n      <th>electricity</th>\n      <td>0.98</td>\n      <td>0.81</td>\n      <td>0.55</td>\n      <td>0.58</td>\n    </tr>\n    <tr>\n      <th>tools</th>\n      <td>0.99</td>\n      <td>0.50</td>\n      <td>0.50</td>\n      <td>0.50</td>\n    </tr>\n    <tr>\n      <th>hospitals</th>\n      <td>0.99</td>\n      <td>0.49</td>\n      <td>0.50</td>\n      <td>0.50</td>\n    </tr>\n    <tr>\n      <th>shops</th>\n      <td>1.00</td>\n      <td>0.50</td>\n      <td>0.50</td>\n      <td>0.50</td>\n    </tr>\n    <tr>\n      <th>aid_centers</th>\n      <td>0.99</td>\n      <td>0.49</td>\n      <td>0.50</td>\n      <td>0.50</td>\n    </tr>\n    <tr>\n      <th>other_infrastructure</th>\n      <td>0.96</td>\n      <td>0.70</td>\n      <td>0.51</td>\n      <td>0.50</td>\n    </tr>\n    <tr>\n      <th>weather_related</th>\n      <td>0.88</td>\n      <td>0.87</td>\n      <td>0.81</td>\n      <td>0.83</td>\n    </tr>\n    <tr>\n      <th>floods</th>\n      <td>0.95</td>\n      <td>0.93</td>\n      <td>0.71</td>\n      <td>0.77</td>\n    </tr>\n    <tr>\n      <th>storm</th>\n      <td>0.93</td>\n      <td>0.85</td>\n      <td>0.71</td>\n      <td>0.76</td>\n    </tr>\n    <tr>\n      <th>fire</th>\n      <td>0.99</td>\n      <td>0.99</td>\n      <td>0.51</td>\n      <td>0.52</td>\n    </tr>\n    <tr>\n      <th>earthquake</th>\n      <td>0.96</td>\n      <td>0.93</td>\n      <td>0.81</td>\n      <td>0.86</td>\n    </tr>\n    <tr>\n      <th>cold</th>\n      <td>0.98</td>\n      <td>0.77</td>\n      <td>0.55</td>\n      <td>0.59</td>\n    </tr>\n    <tr>\n      <th>other_weather</th>\n      <td>0.95</td>\n      <td>0.82</td>\n      <td>0.52</td>\n      <td>0.52</td>\n    </tr>\n    <tr>\n      <th>direct_report</th>\n      <td>0.86</td>\n      <td>0.82</td>\n      <td>0.70</td>\n      <td>0.73</td>\n    </tr>\n  </tbody>\n</table>\n</div>"
     },
     "metadata": {},
     "execution_count": 21
    }
   ],
   "source": [
    "y_pred = pd.DataFrame(\n",
    "    cv.predict(X_test),\n",
    "    columns=y_test.columns\n",
    ")\n",
    "lr_clf_report = generate_classification_report(y_test, y_pred)\n",
    "lr_clf_report"
   ]
  },
  {
   "cell_type": "markdown",
   "metadata": {},
   "source": [
    "### 8. Try improving your model further. Here are a few ideas:\n",
    "* try other machine learning algorithms\n",
    "* add other features besides the TF-IDF"
   ]
  },
  {
   "cell_type": "markdown",
   "metadata": {},
   "source": [
    "The focus of this project is to build an end-to-end pipeline and web application. We will test two more models and select the best model."
   ]
  },
  {
   "cell_type": "code",
   "execution_count": 22,
   "metadata": {},
   "outputs": [
    {
     "output_type": "stream",
     "name": "stdout",
     "text": "CPU times: user 14.8 s, sys: 531 ms, total: 15.3 s\nWall time: 15.4 s\nCPU times: user 4.14 s, sys: 152 ms, total: 4.29 s\nWall time: 4.3 s\nCPU times: user 12.2 s, sys: 569 ms, total: 12.7 s\nWall time: 13.8 s\nCPU times: user 4.42 s, sys: 438 ms, total: 4.86 s\nWall time: 2min 5s\n"
    },
    {
     "output_type": "display_data",
     "data": {
      "text/plain": "                        accuracy  precision  recall    f1\nrelated                     0.82       0.51    0.48  0.49\nrequest                     0.89       0.83    0.77  0.79\noffer                       0.99       0.50    0.50  0.50\naid_related                 0.74       0.74    0.72  0.73\nmedical_help                0.91       0.69    0.55  0.57\nmedical_products            0.94       0.68    0.54  0.55\nsearch_and_rescue           0.97       0.59    0.51  0.52\nsecurity                    0.98       0.59    0.52  0.53\nmilitary                    0.97       0.67    0.54  0.56\nwater                       0.93       0.68    0.53  0.55\nfood                        0.89       0.77    0.58  0.61\nshelter                     0.91       0.74    0.57  0.59\nclothing                    0.98       0.58    0.51  0.52\nmoney                       0.98       0.61    0.52  0.53\nmissing_people              0.99       0.52    0.50  0.51\nrefugees                    0.96       0.62    0.52  0.53\ndeath                       0.96       0.74    0.55  0.58\nother_aid                   0.86       0.60    0.52  0.51\ninfrastructure_related      0.93       0.61    0.52  0.53\ntransport                   0.95       0.69    0.53  0.55\nbuildings                   0.95       0.71    0.53  0.54\nelectricity                 0.98       0.59    0.52  0.52\ntools                       0.99       0.53    0.51  0.52\nhospitals                   0.99       0.58    0.52  0.53\nshops                       0.99       0.58    0.53  0.55\naid_centers                 0.99       0.62    0.53  0.55\nother_infrastructure        0.95       0.57    0.51  0.51\nweather_related             0.83       0.80    0.74  0.76\nfloods                      0.92       0.74    0.60  0.64\nstorm                       0.91       0.77    0.62  0.66\nfire                        0.99       0.52    0.51  0.51\nearthquake                  0.93       0.86    0.65  0.70\ncold                        0.98       0.58    0.52  0.52\nother_weather               0.94       0.57    0.51  0.51\ndirect_report               0.85       0.77    0.73  0.75",
      "text/html": "<div>\n<style scoped>\n    .dataframe tbody tr th:only-of-type {\n        vertical-align: middle;\n    }\n\n    .dataframe tbody tr th {\n        vertical-align: top;\n    }\n\n    .dataframe thead th {\n        text-align: right;\n    }\n</style>\n<table border=\"1\" class=\"dataframe\">\n  <thead>\n    <tr style=\"text-align: right;\">\n      <th></th>\n      <th>accuracy</th>\n      <th>precision</th>\n      <th>recall</th>\n      <th>f1</th>\n    </tr>\n  </thead>\n  <tbody>\n    <tr>\n      <th>related</th>\n      <td>0.82</td>\n      <td>0.51</td>\n      <td>0.48</td>\n      <td>0.49</td>\n    </tr>\n    <tr>\n      <th>request</th>\n      <td>0.89</td>\n      <td>0.83</td>\n      <td>0.77</td>\n      <td>0.79</td>\n    </tr>\n    <tr>\n      <th>offer</th>\n      <td>0.99</td>\n      <td>0.50</td>\n      <td>0.50</td>\n      <td>0.50</td>\n    </tr>\n    <tr>\n      <th>aid_related</th>\n      <td>0.74</td>\n      <td>0.74</td>\n      <td>0.72</td>\n      <td>0.73</td>\n    </tr>\n    <tr>\n      <th>medical_help</th>\n      <td>0.91</td>\n      <td>0.69</td>\n      <td>0.55</td>\n      <td>0.57</td>\n    </tr>\n    <tr>\n      <th>medical_products</th>\n      <td>0.94</td>\n      <td>0.68</td>\n      <td>0.54</td>\n      <td>0.55</td>\n    </tr>\n    <tr>\n      <th>search_and_rescue</th>\n      <td>0.97</td>\n      <td>0.59</td>\n      <td>0.51</td>\n      <td>0.52</td>\n    </tr>\n    <tr>\n      <th>security</th>\n      <td>0.98</td>\n      <td>0.59</td>\n      <td>0.52</td>\n      <td>0.53</td>\n    </tr>\n    <tr>\n      <th>military</th>\n      <td>0.97</td>\n      <td>0.67</td>\n      <td>0.54</td>\n      <td>0.56</td>\n    </tr>\n    <tr>\n      <th>water</th>\n      <td>0.93</td>\n      <td>0.68</td>\n      <td>0.53</td>\n      <td>0.55</td>\n    </tr>\n    <tr>\n      <th>food</th>\n      <td>0.89</td>\n      <td>0.77</td>\n      <td>0.58</td>\n      <td>0.61</td>\n    </tr>\n    <tr>\n      <th>shelter</th>\n      <td>0.91</td>\n      <td>0.74</td>\n      <td>0.57</td>\n      <td>0.59</td>\n    </tr>\n    <tr>\n      <th>clothing</th>\n      <td>0.98</td>\n      <td>0.58</td>\n      <td>0.51</td>\n      <td>0.52</td>\n    </tr>\n    <tr>\n      <th>money</th>\n      <td>0.98</td>\n      <td>0.61</td>\n      <td>0.52</td>\n      <td>0.53</td>\n    </tr>\n    <tr>\n      <th>missing_people</th>\n      <td>0.99</td>\n      <td>0.52</td>\n      <td>0.50</td>\n      <td>0.51</td>\n    </tr>\n    <tr>\n      <th>refugees</th>\n      <td>0.96</td>\n      <td>0.62</td>\n      <td>0.52</td>\n      <td>0.53</td>\n    </tr>\n    <tr>\n      <th>death</th>\n      <td>0.96</td>\n      <td>0.74</td>\n      <td>0.55</td>\n      <td>0.58</td>\n    </tr>\n    <tr>\n      <th>other_aid</th>\n      <td>0.86</td>\n      <td>0.60</td>\n      <td>0.52</td>\n      <td>0.51</td>\n    </tr>\n    <tr>\n      <th>infrastructure_related</th>\n      <td>0.93</td>\n      <td>0.61</td>\n      <td>0.52</td>\n      <td>0.53</td>\n    </tr>\n    <tr>\n      <th>transport</th>\n      <td>0.95</td>\n      <td>0.69</td>\n      <td>0.53</td>\n      <td>0.55</td>\n    </tr>\n    <tr>\n      <th>buildings</th>\n      <td>0.95</td>\n      <td>0.71</td>\n      <td>0.53</td>\n      <td>0.54</td>\n    </tr>\n    <tr>\n      <th>electricity</th>\n      <td>0.98</td>\n      <td>0.59</td>\n      <td>0.52</td>\n      <td>0.52</td>\n    </tr>\n    <tr>\n      <th>tools</th>\n      <td>0.99</td>\n      <td>0.53</td>\n      <td>0.51</td>\n      <td>0.52</td>\n    </tr>\n    <tr>\n      <th>hospitals</th>\n      <td>0.99</td>\n      <td>0.58</td>\n      <td>0.52</td>\n      <td>0.53</td>\n    </tr>\n    <tr>\n      <th>shops</th>\n      <td>0.99</td>\n      <td>0.58</td>\n      <td>0.53</td>\n      <td>0.55</td>\n    </tr>\n    <tr>\n      <th>aid_centers</th>\n      <td>0.99</td>\n      <td>0.62</td>\n      <td>0.53</td>\n      <td>0.55</td>\n    </tr>\n    <tr>\n      <th>other_infrastructure</th>\n      <td>0.95</td>\n      <td>0.57</td>\n      <td>0.51</td>\n      <td>0.51</td>\n    </tr>\n    <tr>\n      <th>weather_related</th>\n      <td>0.83</td>\n      <td>0.80</td>\n      <td>0.74</td>\n      <td>0.76</td>\n    </tr>\n    <tr>\n      <th>floods</th>\n      <td>0.92</td>\n      <td>0.74</td>\n      <td>0.60</td>\n      <td>0.64</td>\n    </tr>\n    <tr>\n      <th>storm</th>\n      <td>0.91</td>\n      <td>0.77</td>\n      <td>0.62</td>\n      <td>0.66</td>\n    </tr>\n    <tr>\n      <th>fire</th>\n      <td>0.99</td>\n      <td>0.52</td>\n      <td>0.51</td>\n      <td>0.51</td>\n    </tr>\n    <tr>\n      <th>earthquake</th>\n      <td>0.93</td>\n      <td>0.86</td>\n      <td>0.65</td>\n      <td>0.70</td>\n    </tr>\n    <tr>\n      <th>cold</th>\n      <td>0.98</td>\n      <td>0.58</td>\n      <td>0.52</td>\n      <td>0.52</td>\n    </tr>\n    <tr>\n      <th>other_weather</th>\n      <td>0.94</td>\n      <td>0.57</td>\n      <td>0.51</td>\n      <td>0.51</td>\n    </tr>\n    <tr>\n      <th>direct_report</th>\n      <td>0.85</td>\n      <td>0.77</td>\n      <td>0.73</td>\n      <td>0.75</td>\n    </tr>\n  </tbody>\n</table>\n</div>"
     },
     "metadata": {}
    },
    {
     "output_type": "display_data",
     "data": {
      "text/plain": "                        accuracy  precision  recall    f1\nrelated                     0.77       0.64    0.50  0.53\nrequest                     0.86       0.83    0.64  0.67\noffer                       1.00       0.50    0.50  0.50\naid_related                 0.65       0.69    0.59  0.56\nmedical_help                0.92       0.81    0.52  0.51\nmedical_products            0.95       0.89    0.51  0.51\nsearch_and_rescue           0.97       0.74    0.51  0.51\nsecurity                    0.98       0.49    0.50  0.50\nmilitary                    0.97       0.86    0.52  0.52\nwater                       0.94       0.87    0.55  0.57\nfood                        0.90       0.85    0.59  0.63\nshelter                     0.92       0.80    0.54  0.55\nclothing                    0.99       0.99    0.51  0.52\nmoney                       0.98       0.89    0.51  0.52\nmissing_people              0.99       0.99    0.51  0.51\nrefugees                    0.97       0.61    0.50  0.50\ndeath                       0.96       0.96    0.55  0.57\nother_aid                   0.86       0.64    0.51  0.49\ninfrastructure_related      0.94       0.57    0.50  0.49\ntransport                   0.96       0.89    0.51  0.51\nbuildings                   0.95       0.80    0.52  0.52\nelectricity                 0.98       0.99    0.53  0.55\ntools                       0.99       0.50    0.50  0.50\nhospitals                   0.99       0.49    0.50  0.50\nshops                       1.00       0.50    0.50  0.50\naid_centers                 0.99       0.49    0.50  0.50\nother_infrastructure        0.96       0.48    0.50  0.49\nweather_related             0.78       0.80    0.62  0.63\nfloods                      0.92       0.88    0.54  0.55\nstorm                       0.91       0.82    0.56  0.58\nfire                        0.99       0.99    0.51  0.51\nearthquake                  0.93       0.89    0.66  0.71\ncold                        0.98       0.78    0.52  0.53\nother_weather               0.95       0.81    0.51  0.50\ndirect_report               0.82       0.77    0.58  0.60",
      "text/html": "<div>\n<style scoped>\n    .dataframe tbody tr th:only-of-type {\n        vertical-align: middle;\n    }\n\n    .dataframe tbody tr th {\n        vertical-align: top;\n    }\n\n    .dataframe thead th {\n        text-align: right;\n    }\n</style>\n<table border=\"1\" class=\"dataframe\">\n  <thead>\n    <tr style=\"text-align: right;\">\n      <th></th>\n      <th>accuracy</th>\n      <th>precision</th>\n      <th>recall</th>\n      <th>f1</th>\n    </tr>\n  </thead>\n  <tbody>\n    <tr>\n      <th>related</th>\n      <td>0.77</td>\n      <td>0.64</td>\n      <td>0.50</td>\n      <td>0.53</td>\n    </tr>\n    <tr>\n      <th>request</th>\n      <td>0.86</td>\n      <td>0.83</td>\n      <td>0.64</td>\n      <td>0.67</td>\n    </tr>\n    <tr>\n      <th>offer</th>\n      <td>1.00</td>\n      <td>0.50</td>\n      <td>0.50</td>\n      <td>0.50</td>\n    </tr>\n    <tr>\n      <th>aid_related</th>\n      <td>0.65</td>\n      <td>0.69</td>\n      <td>0.59</td>\n      <td>0.56</td>\n    </tr>\n    <tr>\n      <th>medical_help</th>\n      <td>0.92</td>\n      <td>0.81</td>\n      <td>0.52</td>\n      <td>0.51</td>\n    </tr>\n    <tr>\n      <th>medical_products</th>\n      <td>0.95</td>\n      <td>0.89</td>\n      <td>0.51</td>\n      <td>0.51</td>\n    </tr>\n    <tr>\n      <th>search_and_rescue</th>\n      <td>0.97</td>\n      <td>0.74</td>\n      <td>0.51</td>\n      <td>0.51</td>\n    </tr>\n    <tr>\n      <th>security</th>\n      <td>0.98</td>\n      <td>0.49</td>\n      <td>0.50</td>\n      <td>0.50</td>\n    </tr>\n    <tr>\n      <th>military</th>\n      <td>0.97</td>\n      <td>0.86</td>\n      <td>0.52</td>\n      <td>0.52</td>\n    </tr>\n    <tr>\n      <th>water</th>\n      <td>0.94</td>\n      <td>0.87</td>\n      <td>0.55</td>\n      <td>0.57</td>\n    </tr>\n    <tr>\n      <th>food</th>\n      <td>0.90</td>\n      <td>0.85</td>\n      <td>0.59</td>\n      <td>0.63</td>\n    </tr>\n    <tr>\n      <th>shelter</th>\n      <td>0.92</td>\n      <td>0.80</td>\n      <td>0.54</td>\n      <td>0.55</td>\n    </tr>\n    <tr>\n      <th>clothing</th>\n      <td>0.99</td>\n      <td>0.99</td>\n      <td>0.51</td>\n      <td>0.52</td>\n    </tr>\n    <tr>\n      <th>money</th>\n      <td>0.98</td>\n      <td>0.89</td>\n      <td>0.51</td>\n      <td>0.52</td>\n    </tr>\n    <tr>\n      <th>missing_people</th>\n      <td>0.99</td>\n      <td>0.99</td>\n      <td>0.51</td>\n      <td>0.51</td>\n    </tr>\n    <tr>\n      <th>refugees</th>\n      <td>0.97</td>\n      <td>0.61</td>\n      <td>0.50</td>\n      <td>0.50</td>\n    </tr>\n    <tr>\n      <th>death</th>\n      <td>0.96</td>\n      <td>0.96</td>\n      <td>0.55</td>\n      <td>0.57</td>\n    </tr>\n    <tr>\n      <th>other_aid</th>\n      <td>0.86</td>\n      <td>0.64</td>\n      <td>0.51</td>\n      <td>0.49</td>\n    </tr>\n    <tr>\n      <th>infrastructure_related</th>\n      <td>0.94</td>\n      <td>0.57</td>\n      <td>0.50</td>\n      <td>0.49</td>\n    </tr>\n    <tr>\n      <th>transport</th>\n      <td>0.96</td>\n      <td>0.89</td>\n      <td>0.51</td>\n      <td>0.51</td>\n    </tr>\n    <tr>\n      <th>buildings</th>\n      <td>0.95</td>\n      <td>0.80</td>\n      <td>0.52</td>\n      <td>0.52</td>\n    </tr>\n    <tr>\n      <th>electricity</th>\n      <td>0.98</td>\n      <td>0.99</td>\n      <td>0.53</td>\n      <td>0.55</td>\n    </tr>\n    <tr>\n      <th>tools</th>\n      <td>0.99</td>\n      <td>0.50</td>\n      <td>0.50</td>\n      <td>0.50</td>\n    </tr>\n    <tr>\n      <th>hospitals</th>\n      <td>0.99</td>\n      <td>0.49</td>\n      <td>0.50</td>\n      <td>0.50</td>\n    </tr>\n    <tr>\n      <th>shops</th>\n      <td>1.00</td>\n      <td>0.50</td>\n      <td>0.50</td>\n      <td>0.50</td>\n    </tr>\n    <tr>\n      <th>aid_centers</th>\n      <td>0.99</td>\n      <td>0.49</td>\n      <td>0.50</td>\n      <td>0.50</td>\n    </tr>\n    <tr>\n      <th>other_infrastructure</th>\n      <td>0.96</td>\n      <td>0.48</td>\n      <td>0.50</td>\n      <td>0.49</td>\n    </tr>\n    <tr>\n      <th>weather_related</th>\n      <td>0.78</td>\n      <td>0.80</td>\n      <td>0.62</td>\n      <td>0.63</td>\n    </tr>\n    <tr>\n      <th>floods</th>\n      <td>0.92</td>\n      <td>0.88</td>\n      <td>0.54</td>\n      <td>0.55</td>\n    </tr>\n    <tr>\n      <th>storm</th>\n      <td>0.91</td>\n      <td>0.82</td>\n      <td>0.56</td>\n      <td>0.58</td>\n    </tr>\n    <tr>\n      <th>fire</th>\n      <td>0.99</td>\n      <td>0.99</td>\n      <td>0.51</td>\n      <td>0.51</td>\n    </tr>\n    <tr>\n      <th>earthquake</th>\n      <td>0.93</td>\n      <td>0.89</td>\n      <td>0.66</td>\n      <td>0.71</td>\n    </tr>\n    <tr>\n      <th>cold</th>\n      <td>0.98</td>\n      <td>0.78</td>\n      <td>0.52</td>\n      <td>0.53</td>\n    </tr>\n    <tr>\n      <th>other_weather</th>\n      <td>0.95</td>\n      <td>0.81</td>\n      <td>0.51</td>\n      <td>0.50</td>\n    </tr>\n    <tr>\n      <th>direct_report</th>\n      <td>0.82</td>\n      <td>0.77</td>\n      <td>0.58</td>\n      <td>0.60</td>\n    </tr>\n  </tbody>\n</table>\n</div>"
     },
     "metadata": {}
    }
   ],
   "source": [
    "bnb_pipeline = Pipeline([\n",
    "    ('vect', TfidfVectorizer(tokenizer=tokenizer)),\n",
    "    ('clf', MultiOutputClassifier(BernoulliNB()))\n",
    "])\n",
    "\n",
    "knn_pipeline = Pipeline([\n",
    "    ('vect', TfidfVectorizer(tokenizer=tokenizer)),\n",
    "    ('clf', MultiOutputClassifier(KNeighborsClassifier(), n_jobs=2))\n",
    "])\n",
    "\n",
    "results = []\n",
    "for pipeline in [bnb_pipeline, knn_pipeline]:\n",
    "    %time pipeline.fit(X_train, y_train)\n",
    "    %time y_pred = pipeline.predict(X_test)\n",
    "    y_pred = pd.DataFrame(y_pred, columns=y_test.columns)\n",
    "    clf_report = generate_classification_report(y_test=y_test, y_pred=y_pred)\n",
    "    results.append(clf_report)"
   ]
  },
  {
   "cell_type": "code",
   "execution_count": 24,
   "metadata": {},
   "outputs": [
    {
     "output_type": "display_data",
     "data": {
      "text/plain": "                        accuracy  precision  recall    f1\nrelated                     0.82       0.51    0.48  0.49\nrequest                     0.89       0.83    0.77  0.79\noffer                       0.99       0.50    0.50  0.50\naid_related                 0.74       0.74    0.72  0.73\nmedical_help                0.91       0.69    0.55  0.57\nmedical_products            0.94       0.68    0.54  0.55\nsearch_and_rescue           0.97       0.59    0.51  0.52\nsecurity                    0.98       0.59    0.52  0.53\nmilitary                    0.97       0.67    0.54  0.56\nwater                       0.93       0.68    0.53  0.55\nfood                        0.89       0.77    0.58  0.61\nshelter                     0.91       0.74    0.57  0.59\nclothing                    0.98       0.58    0.51  0.52\nmoney                       0.98       0.61    0.52  0.53\nmissing_people              0.99       0.52    0.50  0.51\nrefugees                    0.96       0.62    0.52  0.53\ndeath                       0.96       0.74    0.55  0.58\nother_aid                   0.86       0.60    0.52  0.51\ninfrastructure_related      0.93       0.61    0.52  0.53\ntransport                   0.95       0.69    0.53  0.55\nbuildings                   0.95       0.71    0.53  0.54\nelectricity                 0.98       0.59    0.52  0.52\ntools                       0.99       0.53    0.51  0.52\nhospitals                   0.99       0.58    0.52  0.53\nshops                       0.99       0.58    0.53  0.55\naid_centers                 0.99       0.62    0.53  0.55\nother_infrastructure        0.95       0.57    0.51  0.51\nweather_related             0.83       0.80    0.74  0.76\nfloods                      0.92       0.74    0.60  0.64\nstorm                       0.91       0.77    0.62  0.66\nfire                        0.99       0.52    0.51  0.51\nearthquake                  0.93       0.86    0.65  0.70\ncold                        0.98       0.58    0.52  0.52\nother_weather               0.94       0.57    0.51  0.51\ndirect_report               0.85       0.77    0.73  0.75",
      "text/html": "<div>\n<style scoped>\n    .dataframe tbody tr th:only-of-type {\n        vertical-align: middle;\n    }\n\n    .dataframe tbody tr th {\n        vertical-align: top;\n    }\n\n    .dataframe thead th {\n        text-align: right;\n    }\n</style>\n<table border=\"1\" class=\"dataframe\">\n  <thead>\n    <tr style=\"text-align: right;\">\n      <th></th>\n      <th>accuracy</th>\n      <th>precision</th>\n      <th>recall</th>\n      <th>f1</th>\n    </tr>\n  </thead>\n  <tbody>\n    <tr>\n      <th>related</th>\n      <td>0.82</td>\n      <td>0.51</td>\n      <td>0.48</td>\n      <td>0.49</td>\n    </tr>\n    <tr>\n      <th>request</th>\n      <td>0.89</td>\n      <td>0.83</td>\n      <td>0.77</td>\n      <td>0.79</td>\n    </tr>\n    <tr>\n      <th>offer</th>\n      <td>0.99</td>\n      <td>0.50</td>\n      <td>0.50</td>\n      <td>0.50</td>\n    </tr>\n    <tr>\n      <th>aid_related</th>\n      <td>0.74</td>\n      <td>0.74</td>\n      <td>0.72</td>\n      <td>0.73</td>\n    </tr>\n    <tr>\n      <th>medical_help</th>\n      <td>0.91</td>\n      <td>0.69</td>\n      <td>0.55</td>\n      <td>0.57</td>\n    </tr>\n    <tr>\n      <th>medical_products</th>\n      <td>0.94</td>\n      <td>0.68</td>\n      <td>0.54</td>\n      <td>0.55</td>\n    </tr>\n    <tr>\n      <th>search_and_rescue</th>\n      <td>0.97</td>\n      <td>0.59</td>\n      <td>0.51</td>\n      <td>0.52</td>\n    </tr>\n    <tr>\n      <th>security</th>\n      <td>0.98</td>\n      <td>0.59</td>\n      <td>0.52</td>\n      <td>0.53</td>\n    </tr>\n    <tr>\n      <th>military</th>\n      <td>0.97</td>\n      <td>0.67</td>\n      <td>0.54</td>\n      <td>0.56</td>\n    </tr>\n    <tr>\n      <th>water</th>\n      <td>0.93</td>\n      <td>0.68</td>\n      <td>0.53</td>\n      <td>0.55</td>\n    </tr>\n    <tr>\n      <th>food</th>\n      <td>0.89</td>\n      <td>0.77</td>\n      <td>0.58</td>\n      <td>0.61</td>\n    </tr>\n    <tr>\n      <th>shelter</th>\n      <td>0.91</td>\n      <td>0.74</td>\n      <td>0.57</td>\n      <td>0.59</td>\n    </tr>\n    <tr>\n      <th>clothing</th>\n      <td>0.98</td>\n      <td>0.58</td>\n      <td>0.51</td>\n      <td>0.52</td>\n    </tr>\n    <tr>\n      <th>money</th>\n      <td>0.98</td>\n      <td>0.61</td>\n      <td>0.52</td>\n      <td>0.53</td>\n    </tr>\n    <tr>\n      <th>missing_people</th>\n      <td>0.99</td>\n      <td>0.52</td>\n      <td>0.50</td>\n      <td>0.51</td>\n    </tr>\n    <tr>\n      <th>refugees</th>\n      <td>0.96</td>\n      <td>0.62</td>\n      <td>0.52</td>\n      <td>0.53</td>\n    </tr>\n    <tr>\n      <th>death</th>\n      <td>0.96</td>\n      <td>0.74</td>\n      <td>0.55</td>\n      <td>0.58</td>\n    </tr>\n    <tr>\n      <th>other_aid</th>\n      <td>0.86</td>\n      <td>0.60</td>\n      <td>0.52</td>\n      <td>0.51</td>\n    </tr>\n    <tr>\n      <th>infrastructure_related</th>\n      <td>0.93</td>\n      <td>0.61</td>\n      <td>0.52</td>\n      <td>0.53</td>\n    </tr>\n    <tr>\n      <th>transport</th>\n      <td>0.95</td>\n      <td>0.69</td>\n      <td>0.53</td>\n      <td>0.55</td>\n    </tr>\n    <tr>\n      <th>buildings</th>\n      <td>0.95</td>\n      <td>0.71</td>\n      <td>0.53</td>\n      <td>0.54</td>\n    </tr>\n    <tr>\n      <th>electricity</th>\n      <td>0.98</td>\n      <td>0.59</td>\n      <td>0.52</td>\n      <td>0.52</td>\n    </tr>\n    <tr>\n      <th>tools</th>\n      <td>0.99</td>\n      <td>0.53</td>\n      <td>0.51</td>\n      <td>0.52</td>\n    </tr>\n    <tr>\n      <th>hospitals</th>\n      <td>0.99</td>\n      <td>0.58</td>\n      <td>0.52</td>\n      <td>0.53</td>\n    </tr>\n    <tr>\n      <th>shops</th>\n      <td>0.99</td>\n      <td>0.58</td>\n      <td>0.53</td>\n      <td>0.55</td>\n    </tr>\n    <tr>\n      <th>aid_centers</th>\n      <td>0.99</td>\n      <td>0.62</td>\n      <td>0.53</td>\n      <td>0.55</td>\n    </tr>\n    <tr>\n      <th>other_infrastructure</th>\n      <td>0.95</td>\n      <td>0.57</td>\n      <td>0.51</td>\n      <td>0.51</td>\n    </tr>\n    <tr>\n      <th>weather_related</th>\n      <td>0.83</td>\n      <td>0.80</td>\n      <td>0.74</td>\n      <td>0.76</td>\n    </tr>\n    <tr>\n      <th>floods</th>\n      <td>0.92</td>\n      <td>0.74</td>\n      <td>0.60</td>\n      <td>0.64</td>\n    </tr>\n    <tr>\n      <th>storm</th>\n      <td>0.91</td>\n      <td>0.77</td>\n      <td>0.62</td>\n      <td>0.66</td>\n    </tr>\n    <tr>\n      <th>fire</th>\n      <td>0.99</td>\n      <td>0.52</td>\n      <td>0.51</td>\n      <td>0.51</td>\n    </tr>\n    <tr>\n      <th>earthquake</th>\n      <td>0.93</td>\n      <td>0.86</td>\n      <td>0.65</td>\n      <td>0.70</td>\n    </tr>\n    <tr>\n      <th>cold</th>\n      <td>0.98</td>\n      <td>0.58</td>\n      <td>0.52</td>\n      <td>0.52</td>\n    </tr>\n    <tr>\n      <th>other_weather</th>\n      <td>0.94</td>\n      <td>0.57</td>\n      <td>0.51</td>\n      <td>0.51</td>\n    </tr>\n    <tr>\n      <th>direct_report</th>\n      <td>0.85</td>\n      <td>0.77</td>\n      <td>0.73</td>\n      <td>0.75</td>\n    </tr>\n  </tbody>\n</table>\n</div>"
     },
     "metadata": {}
    },
    {
     "output_type": "display_data",
     "data": {
      "text/plain": "                        accuracy  precision  recall    f1\nrelated                     0.77       0.64    0.50  0.53\nrequest                     0.86       0.83    0.64  0.67\noffer                       1.00       0.50    0.50  0.50\naid_related                 0.65       0.69    0.59  0.56\nmedical_help                0.92       0.81    0.52  0.51\nmedical_products            0.95       0.89    0.51  0.51\nsearch_and_rescue           0.97       0.74    0.51  0.51\nsecurity                    0.98       0.49    0.50  0.50\nmilitary                    0.97       0.86    0.52  0.52\nwater                       0.94       0.87    0.55  0.57\nfood                        0.90       0.85    0.59  0.63\nshelter                     0.92       0.80    0.54  0.55\nclothing                    0.99       0.99    0.51  0.52\nmoney                       0.98       0.89    0.51  0.52\nmissing_people              0.99       0.99    0.51  0.51\nrefugees                    0.97       0.61    0.50  0.50\ndeath                       0.96       0.96    0.55  0.57\nother_aid                   0.86       0.64    0.51  0.49\ninfrastructure_related      0.94       0.57    0.50  0.49\ntransport                   0.96       0.89    0.51  0.51\nbuildings                   0.95       0.80    0.52  0.52\nelectricity                 0.98       0.99    0.53  0.55\ntools                       0.99       0.50    0.50  0.50\nhospitals                   0.99       0.49    0.50  0.50\nshops                       1.00       0.50    0.50  0.50\naid_centers                 0.99       0.49    0.50  0.50\nother_infrastructure        0.96       0.48    0.50  0.49\nweather_related             0.78       0.80    0.62  0.63\nfloods                      0.92       0.88    0.54  0.55\nstorm                       0.91       0.82    0.56  0.58\nfire                        0.99       0.99    0.51  0.51\nearthquake                  0.93       0.89    0.66  0.71\ncold                        0.98       0.78    0.52  0.53\nother_weather               0.95       0.81    0.51  0.50\ndirect_report               0.82       0.77    0.58  0.60",
      "text/html": "<div>\n<style scoped>\n    .dataframe tbody tr th:only-of-type {\n        vertical-align: middle;\n    }\n\n    .dataframe tbody tr th {\n        vertical-align: top;\n    }\n\n    .dataframe thead th {\n        text-align: right;\n    }\n</style>\n<table border=\"1\" class=\"dataframe\">\n  <thead>\n    <tr style=\"text-align: right;\">\n      <th></th>\n      <th>accuracy</th>\n      <th>precision</th>\n      <th>recall</th>\n      <th>f1</th>\n    </tr>\n  </thead>\n  <tbody>\n    <tr>\n      <th>related</th>\n      <td>0.77</td>\n      <td>0.64</td>\n      <td>0.50</td>\n      <td>0.53</td>\n    </tr>\n    <tr>\n      <th>request</th>\n      <td>0.86</td>\n      <td>0.83</td>\n      <td>0.64</td>\n      <td>0.67</td>\n    </tr>\n    <tr>\n      <th>offer</th>\n      <td>1.00</td>\n      <td>0.50</td>\n      <td>0.50</td>\n      <td>0.50</td>\n    </tr>\n    <tr>\n      <th>aid_related</th>\n      <td>0.65</td>\n      <td>0.69</td>\n      <td>0.59</td>\n      <td>0.56</td>\n    </tr>\n    <tr>\n      <th>medical_help</th>\n      <td>0.92</td>\n      <td>0.81</td>\n      <td>0.52</td>\n      <td>0.51</td>\n    </tr>\n    <tr>\n      <th>medical_products</th>\n      <td>0.95</td>\n      <td>0.89</td>\n      <td>0.51</td>\n      <td>0.51</td>\n    </tr>\n    <tr>\n      <th>search_and_rescue</th>\n      <td>0.97</td>\n      <td>0.74</td>\n      <td>0.51</td>\n      <td>0.51</td>\n    </tr>\n    <tr>\n      <th>security</th>\n      <td>0.98</td>\n      <td>0.49</td>\n      <td>0.50</td>\n      <td>0.50</td>\n    </tr>\n    <tr>\n      <th>military</th>\n      <td>0.97</td>\n      <td>0.86</td>\n      <td>0.52</td>\n      <td>0.52</td>\n    </tr>\n    <tr>\n      <th>water</th>\n      <td>0.94</td>\n      <td>0.87</td>\n      <td>0.55</td>\n      <td>0.57</td>\n    </tr>\n    <tr>\n      <th>food</th>\n      <td>0.90</td>\n      <td>0.85</td>\n      <td>0.59</td>\n      <td>0.63</td>\n    </tr>\n    <tr>\n      <th>shelter</th>\n      <td>0.92</td>\n      <td>0.80</td>\n      <td>0.54</td>\n      <td>0.55</td>\n    </tr>\n    <tr>\n      <th>clothing</th>\n      <td>0.99</td>\n      <td>0.99</td>\n      <td>0.51</td>\n      <td>0.52</td>\n    </tr>\n    <tr>\n      <th>money</th>\n      <td>0.98</td>\n      <td>0.89</td>\n      <td>0.51</td>\n      <td>0.52</td>\n    </tr>\n    <tr>\n      <th>missing_people</th>\n      <td>0.99</td>\n      <td>0.99</td>\n      <td>0.51</td>\n      <td>0.51</td>\n    </tr>\n    <tr>\n      <th>refugees</th>\n      <td>0.97</td>\n      <td>0.61</td>\n      <td>0.50</td>\n      <td>0.50</td>\n    </tr>\n    <tr>\n      <th>death</th>\n      <td>0.96</td>\n      <td>0.96</td>\n      <td>0.55</td>\n      <td>0.57</td>\n    </tr>\n    <tr>\n      <th>other_aid</th>\n      <td>0.86</td>\n      <td>0.64</td>\n      <td>0.51</td>\n      <td>0.49</td>\n    </tr>\n    <tr>\n      <th>infrastructure_related</th>\n      <td>0.94</td>\n      <td>0.57</td>\n      <td>0.50</td>\n      <td>0.49</td>\n    </tr>\n    <tr>\n      <th>transport</th>\n      <td>0.96</td>\n      <td>0.89</td>\n      <td>0.51</td>\n      <td>0.51</td>\n    </tr>\n    <tr>\n      <th>buildings</th>\n      <td>0.95</td>\n      <td>0.80</td>\n      <td>0.52</td>\n      <td>0.52</td>\n    </tr>\n    <tr>\n      <th>electricity</th>\n      <td>0.98</td>\n      <td>0.99</td>\n      <td>0.53</td>\n      <td>0.55</td>\n    </tr>\n    <tr>\n      <th>tools</th>\n      <td>0.99</td>\n      <td>0.50</td>\n      <td>0.50</td>\n      <td>0.50</td>\n    </tr>\n    <tr>\n      <th>hospitals</th>\n      <td>0.99</td>\n      <td>0.49</td>\n      <td>0.50</td>\n      <td>0.50</td>\n    </tr>\n    <tr>\n      <th>shops</th>\n      <td>1.00</td>\n      <td>0.50</td>\n      <td>0.50</td>\n      <td>0.50</td>\n    </tr>\n    <tr>\n      <th>aid_centers</th>\n      <td>0.99</td>\n      <td>0.49</td>\n      <td>0.50</td>\n      <td>0.50</td>\n    </tr>\n    <tr>\n      <th>other_infrastructure</th>\n      <td>0.96</td>\n      <td>0.48</td>\n      <td>0.50</td>\n      <td>0.49</td>\n    </tr>\n    <tr>\n      <th>weather_related</th>\n      <td>0.78</td>\n      <td>0.80</td>\n      <td>0.62</td>\n      <td>0.63</td>\n    </tr>\n    <tr>\n      <th>floods</th>\n      <td>0.92</td>\n      <td>0.88</td>\n      <td>0.54</td>\n      <td>0.55</td>\n    </tr>\n    <tr>\n      <th>storm</th>\n      <td>0.91</td>\n      <td>0.82</td>\n      <td>0.56</td>\n      <td>0.58</td>\n    </tr>\n    <tr>\n      <th>fire</th>\n      <td>0.99</td>\n      <td>0.99</td>\n      <td>0.51</td>\n      <td>0.51</td>\n    </tr>\n    <tr>\n      <th>earthquake</th>\n      <td>0.93</td>\n      <td>0.89</td>\n      <td>0.66</td>\n      <td>0.71</td>\n    </tr>\n    <tr>\n      <th>cold</th>\n      <td>0.98</td>\n      <td>0.78</td>\n      <td>0.52</td>\n      <td>0.53</td>\n    </tr>\n    <tr>\n      <th>other_weather</th>\n      <td>0.95</td>\n      <td>0.81</td>\n      <td>0.51</td>\n      <td>0.50</td>\n    </tr>\n    <tr>\n      <th>direct_report</th>\n      <td>0.82</td>\n      <td>0.77</td>\n      <td>0.58</td>\n      <td>0.60</td>\n    </tr>\n  </tbody>\n</table>\n</div>"
     },
     "metadata": {}
    }
   ],
   "source": [
    "display(results[0])\n",
    "display(results[1])"
   ]
  },
  {
   "cell_type": "markdown",
   "metadata": {},
   "source": [
    "### 9. Export your model as a pickle file"
   ]
  },
  {
   "cell_type": "code",
   "execution_count": 15,
   "metadata": {},
   "outputs": [],
   "source": [
    "# Fit on all data\n",
    "model = lr_pipeline\n",
    "model.fit(X.message, Y[columns])\n",
    "\n",
    "with open('model.pkl', 'wb') as fh:\n",
    "    pickle.dump(model, fh)"
   ]
  },
  {
   "cell_type": "markdown",
   "metadata": {},
   "source": [
    "### 10. Use this notebook to complete `train.py`\n",
    "Use the template file attached in the Resources folder to write a script that runs the steps above to create a database and export a model based on a new dataset specified by the user."
   ]
  }
 ],
 "metadata": {
  "kernelspec": {
   "display_name": "Python 3",
   "language": "python",
   "name": "python3"
  },
  "language_info": {
   "codemirror_mode": {
    "name": "ipython",
    "version": 3
   },
   "file_extension": ".py",
   "mimetype": "text/x-python",
   "name": "python",
   "nbconvert_exporter": "python",
   "pygments_lexer": "ipython3",
   "version": "3.8.1-final"
  }
 },
 "nbformat": 4,
 "nbformat_minor": 2
}